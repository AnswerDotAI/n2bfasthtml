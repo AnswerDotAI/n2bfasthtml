{
 "cells": [
  {
   "cell_type": "markdown",
   "metadata": {},
   "source": [
    "# nb\n",
    "\n",
    "> Create FastHTML from a NB"
   ]
  },
  {
   "cell_type": "code",
   "execution_count": 11,
   "metadata": {},
   "outputs": [],
   "source": [
    "#| default_exp core"
   ]
  },
  {
   "cell_type": "code",
   "execution_count": 12,
   "metadata": {},
   "outputs": [],
   "source": [
    "#| hide\n",
    "from nbdev.showdoc import *"
   ]
  },
  {
   "cell_type": "code",
   "execution_count": 13,
   "metadata": {},
   "outputs": [
    {
     "data": {
      "text/html": [
       "<script type=\"module\" src=\"https://cdn.jsdelivr.net/npm/zero-md@3?register\"></script>\n",
       "<script src=\"https://cdn.tailwindcss.com\"></script>\n",
       "<script src=\"https://cdn.jsdelivr.net/npm/uikit@3.21.6/dist/js/uikit.min.js\"></script>\n",
       "<script src=\"https://cdn.jsdelivr.net/npm/uikit@3.21.6/dist/js/uikit-icons.min.js\"></script>\n",
       "<script type=\"module\" src=\"https://unpkg.com/franken-wc@0.0.6/dist/js/wc.iife.js\"></script>\n",
       "<link rel=\"stylesheet\" href=\"https://unpkg.com/franken-wc@0.0.6/dist/css/blue.min.css\">\n"
      ],
      "text/plain": [
       "<IPython.core.display.HTML object>"
      ]
     },
     "metadata": {},
     "output_type": "display_data"
    }
   ],
   "source": [
    "%%html\n",
    "<script type=\"module\" src=\"https://cdn.jsdelivr.net/npm/zero-md@3?register\"></script>\n",
    "<script src=\"https://cdn.tailwindcss.com\"></script>\n",
    "<script src=\"https://cdn.jsdelivr.net/npm/uikit@3.21.6/dist/js/uikit.min.js\"></script>\n",
    "<script src=\"https://cdn.jsdelivr.net/npm/uikit@3.21.6/dist/js/uikit-icons.min.js\"></script>\n",
    "<script type=\"module\" src=\"https://unpkg.com/franken-wc@0.0.6/dist/js/wc.iife.js\"></script>\n",
    "<link rel=\"stylesheet\" href=\"https://unpkg.com/franken-wc@0.0.6/dist/css/blue.min.css\">"
   ]
  },
  {
   "cell_type": "code",
   "execution_count": 14,
   "metadata": {},
   "outputs": [],
   "source": [
    "#| export\n",
    "from fasthtml.common import *\n",
    "from fasthtml.components import Zero_md\n",
    "from pathlib import Path\n",
    "import json\n",
    "from fh_frankenui.components import *"
   ]
  },
  {
   "cell_type": "code",
   "execution_count": 15,
   "metadata": {},
   "outputs": [],
   "source": [
    "example_nb_dir = Path('../example_nbs/')\n",
    "with open(example_nb_dir/'explaining_xt_components.ipynb', 'r') as f: xt_nb = json.load(f)"
   ]
  },
  {
   "cell_type": "code",
   "execution_count": 42,
   "metadata": {},
   "outputs": [],
   "source": [
    "#| export\n",
    "def strip_list(l, val='\\n'):\n",
    "    start, end = 0, len(l)\n",
    "    while start < end and l[start] == val: start += 1\n",
    "    while end > start and l[end - 1] == val: end -= 1\n",
    "    return l[start:end]"
   ]
  },
  {
   "cell_type": "code",
   "execution_count": 16,
   "metadata": {},
   "outputs": [],
   "source": [
    "#| export\n",
    "def render_md(c):\n",
    "    return Zero_md(Script(c, type=\"text/markdown\"))"
   ]
  },
  {
   "cell_type": "code",
   "execution_count": 17,
   "metadata": {},
   "outputs": [],
   "source": [
    "#| export\n",
    "def render_md_cell(cell):\n",
    "    assert cell['cell_type'] == 'markdown'\n",
    "    return Div(cls='md-cell')(render_md(''.join(strip_list(cell['source']))))"
   ]
  },
  {
   "cell_type": "code",
   "execution_count": 79,
   "metadata": {},
   "outputs": [],
   "source": [
    "# show(Div(*map(render_md_cell,[o for o in xt_nb['cells'][:3] if o['cell_type']=='markdown'])))"
   ]
  },
  {
   "cell_type": "code",
   "execution_count": 19,
   "metadata": {},
   "outputs": [],
   "source": [
    "#| export\n",
    "def get_nb_lang(nb): return nb['metadata']['kernelspec']['language']\n",
    "# get_nb_lang(xt_nb)"
   ]
  },
  {
   "cell_type": "code",
   "execution_count": 57,
   "metadata": {},
   "outputs": [],
   "source": [
    "#| export\n",
    "def render_code_source(cell,lang='python'):\n",
    "    if cell['source']==[]: return ''\n",
    "    code = f'''```{lang}\\n{''.join(strip_list(cell['source']))}'''\n",
    "    return Div(cls='code-source')(render_md(code))"
   ]
  },
  {
   "cell_type": "code",
   "execution_count": 51,
   "metadata": {
    "scrolled": false
   },
   "outputs": [],
   "source": [
    "# show(Div(*map(render_code_source,[o for o in xt_nb['cells'][:10] if o['cell_type']=='code'])))"
   ]
  },
  {
   "cell_type": "code",
   "execution_count": 52,
   "metadata": {},
   "outputs": [],
   "source": [
    "#| export\n",
    "def render_code_output(cell,lang='python'):\n",
    "    res = []\n",
    "    if len(cell['outputs'])==0: ''\n",
    "    for output in cell['outputs']:\n",
    "        if output['output_type'] == 'execute_result':\n",
    "            data = output['data']\n",
    "            if 'text/markdown' in data.keys(): res.append(NotStr(''.join(strip_list(data['text/markdown'][1:-1]))))\n",
    "            elif 'text/plain' in data.keys(): res.append(''.join(strip_list(data['text/plain'])))\n",
    "        if output['output_type'] == 'stream':\n",
    "            res.append(''.join(strip_list(output['text'])))\n",
    "    return Div(cls='code-output')(*res)"
   ]
  },
  {
   "cell_type": "code",
   "execution_count": 53,
   "metadata": {},
   "outputs": [],
   "source": [
    "nbs_dir = Path('../example_nbs/')\n",
    "with open(nbs_dir/'00_core.ipynb', 'r') as f: nb = json.load(f)\n",
    "\n",
    "# render_code_output(nb['cells'][9])"
   ]
  },
  {
   "cell_type": "code",
   "execution_count": 54,
   "metadata": {
    "scrolled": false
   },
   "outputs": [],
   "source": [
    "# show(Div(*map(render_code_output,[o for o in xt_nb['cells'][:20] if o['cell_type']=='code'])))"
   ]
  },
  {
   "cell_type": "code",
   "execution_count": 70,
   "metadata": {},
   "outputs": [],
   "source": [
    "#| export\n",
    "def render_nb(fpath):\n",
    "    with open(fpath, 'r') as f: xt_nb = json.load(f)\n",
    "    fname = Path(fpath).name\n",
    "    res = []\n",
    "    for cell in xt_nb['cells']:\n",
    "        if cell['cell_type']=='code':\n",
    "            s,o = render_code_source(cell), render_code_output(cell)\n",
    "            res.append(Card(s,footer=o,cls='mx-20'))\n",
    "        elif cell['cell_type']=='markdown': res.append(Div(render_md_cell(cell)))\n",
    "    return Div(cls='mx-20 space-y-6')(*res)"
   ]
  },
  {
   "cell_type": "code",
   "execution_count": 71,
   "metadata": {},
   "outputs": [],
   "source": [
    "#| hide\n",
    "import nbdev; nbdev.nbdev_export()"
   ]
  },
  {
   "cell_type": "code",
   "execution_count": null,
   "metadata": {},
   "outputs": [],
   "source": []
  }
 ],
 "metadata": {
  "kernelspec": {
   "display_name": "Python 3 (ipykernel)",
   "language": "python",
   "name": "python3"
  },
  "language_info": {
   "codemirror_mode": {
    "name": "ipython",
    "version": 3
   },
   "file_extension": ".py",
   "mimetype": "text/x-python",
   "name": "python",
   "nbconvert_exporter": "python",
   "pygments_lexer": "ipython3",
   "version": "3.12.4"
  },
  "toc": {
   "base_numbering": 1,
   "nav_menu": {},
   "number_sections": true,
   "sideBar": true,
   "skip_h1_title": false,
   "title_cell": "Table of Contents",
   "title_sidebar": "Contents",
   "toc_cell": false,
   "toc_position": {},
   "toc_section_display": true,
   "toc_window_display": false
  }
 },
 "nbformat": 4,
 "nbformat_minor": 4
}
