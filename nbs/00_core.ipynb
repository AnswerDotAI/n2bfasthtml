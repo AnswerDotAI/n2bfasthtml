{
 "cells": [
  {
   "cell_type": "markdown",
   "metadata": {},
   "source": [
    "# nb2fasthtml\n",
    "\n",
    "> Create FastHTML from a NB"
   ]
  },
  {
   "cell_type": "code",
   "execution_count": null,
   "metadata": {},
   "outputs": [],
   "source": [
    "#| default_exp core"
   ]
  },
  {
   "cell_type": "code",
   "execution_count": null,
   "metadata": {},
   "outputs": [],
   "source": [
    "#| hide\n",
    "from nbdev.showdoc import *"
   ]
  },
  {
   "cell_type": "code",
   "execution_count": null,
   "metadata": {},
   "outputs": [],
   "source": [
    "#| export\n",
    "from fasthtml.common import *\n",
    "from pathlib import Path\n",
    "import json, yaml\n",
    "from execnb.nbio import *\n",
    "from execnb.shell import render_outputs\n",
    "from typing import Callable\n",
    "from functools import partial"
   ]
  },
  {
   "cell_type": "code",
   "execution_count": null,
   "metadata": {},
   "outputs": [],
   "source": [
    "from IPython.display import HTML,Markdown"
   ]
  },
  {
   "cell_type": "code",
   "execution_count": null,
   "metadata": {},
   "outputs": [],
   "source": [
    "#| export\n",
    "hdrs = (MarkdownJS(), HighlightJS(langs=['python', 'javascript', 'html', 'css']))"
   ]
  },
  {
   "cell_type": "code",
   "execution_count": null,
   "metadata": {},
   "outputs": [],
   "source": [
    "nb_dir = Path('../example_nbs/')\n",
    "xt_nb = read_nb(nb_dir/'explaining_xt_components.ipynb')\n",
    "cells = xt_nb.cells"
   ]
  },
  {
   "cell_type": "code",
   "execution_count": null,
   "metadata": {},
   "outputs": [],
   "source": [
    "#| export\n",
    "def strip_list(l, val='\\n'):\n",
    "    start, end = 0, len(l)\n",
    "    while start < end and l[start] == val: start += 1\n",
    "    while end > start and l[end - 1] == val: end -= 1\n",
    "    return l[start:end]"
   ]
  },
  {
   "cell_type": "markdown",
   "metadata": {},
   "source": [
    "## Render Cells"
   ]
  },
  {
   "cell_type": "code",
   "execution_count": null,
   "metadata": {},
   "outputs": [],
   "source": [
    "#| export\n",
    "def get_nb_lang(nb):\n",
    "    \"Get the language of `nb`\"\n",
    "    return nb['metadata']['kernelspec']['language']"
   ]
  },
  {
   "cell_type": "code",
   "execution_count": null,
   "metadata": {},
   "outputs": [
    {
     "data": {
      "text/plain": [
       "'python'"
      ]
     },
     "execution_count": null,
     "metadata": {},
     "output_type": "execute_result"
    }
   ],
   "source": [
    "get_nb_lang(xt_nb)"
   ]
  },
  {
   "cell_type": "code",
   "execution_count": null,
   "metadata": {},
   "outputs": [],
   "source": [
    "#| export\n",
    "def render_md(c, container=Div):\n",
    "    \"Default rendering function; adds class 'marked' for use with highlight-js\"\n",
    "    return container(c, cls=\"marked\")"
   ]
  },
  {
   "cell_type": "code",
   "execution_count": null,
   "metadata": {},
   "outputs": [
    {
     "data": {
      "text/markdown": [
       "```html\n",
       "<div class=\"marked\"># **ft** Components</div>\n",
       "\n",
       "```"
      ],
      "text/plain": [
       "div(('# **ft** Components',),{'class': 'marked'})"
      ]
     },
     "execution_count": null,
     "metadata": {},
     "output_type": "execute_result"
    }
   ],
   "source": [
    "md_cell = first(o for o in cells if o.cell_type=='markdown')\n",
    "render_md(md_cell.source)"
   ]
  },
  {
   "cell_type": "code",
   "execution_count": null,
   "metadata": {},
   "outputs": [],
   "source": [
    "from mistletoe import markdown, HTMLRenderer\n",
    "from mistletoe.contrib.pygments_renderer import PygmentsRenderer"
   ]
  },
  {
   "cell_type": "code",
   "execution_count": null,
   "metadata": {},
   "outputs": [],
   "source": [
    "def _render_md(c, **kw):\n",
    "    \"Non exported version for display in nb\"\n",
    "    return markdown(c, renderer=PygmentsRenderer)"
   ]
  },
  {
   "cell_type": "code",
   "execution_count": null,
   "metadata": {},
   "outputs": [],
   "source": [
    "#| export\n",
    "def render_code_source(cell, lang='python', render_md=render_md):\n",
    "    if not cell.source: return ''\n",
    "    return render_md(f'''\\n```{lang}\\n{cell.source}\\n```\\n''')"
   ]
  },
  {
   "cell_type": "code",
   "execution_count": null,
   "metadata": {},
   "outputs": [
    {
     "data": {
      "text/html": [
       "<div class=\"highlight\" style=\"background: #f8f8f8\"><pre style=\"line-height: 125%;\"><span></span><span style=\"color: #008000; font-weight: bold\">from</span> <span style=\"color: #0000FF; font-weight: bold\">fasthtml.common</span> <span style=\"color: #008000; font-weight: bold\">import</span> <span style=\"color: #666666\">*</span>\n",
       "\n",
       "<span style=\"color: #008000; font-weight: bold\">def</span> <span style=\"color: #0000FF\">example</span>():\n",
       "    <span style=\"color: #3D7B7B; font-style: italic\"># The code below is a set of ft components</span>\n",
       "    <span style=\"color: #008000; font-weight: bold\">return</span> Div(\n",
       "            H1(<span style=\"color: #BA2121\">&quot;FastHTML APP&quot;</span>),\n",
       "            P(<span style=\"color: #BA2121\">&quot;Let&#39;s do this&quot;</span>),\n",
       "            <span style=\"color: #008000\">cls</span><span style=\"color: #666666\">=</span><span style=\"color: #BA2121\">&quot;go&quot;</span>\n",
       "    ) \n",
       "</pre></div>\n",
       "\n"
      ],
      "text/plain": [
       "<IPython.core.display.HTML object>"
      ]
     },
     "execution_count": null,
     "metadata": {},
     "output_type": "execute_result"
    }
   ],
   "source": [
    "code_cell = first(o for o in cells if o.cell_type=='code')\n",
    "HTML(render_code_source(code_cell, render_md=_render_md))"
   ]
  },
  {
   "cell_type": "code",
   "execution_count": null,
   "metadata": {},
   "outputs": [
    {
     "data": {
      "text/plain": [
       "[{'data': {'text/markdown': ['```xml\\n',\n",
       "    '<div class=\"go\">\\n',\n",
       "    '  <h1>FastHTML APP</h1>\\n',\n",
       "    '  <p>Let&#x27;s do this</p>\\n',\n",
       "    '</div>\\n',\n",
       "    '\\n',\n",
       "    '```'],\n",
       "   'text/plain': [\"['div',\\n\",\n",
       "    ' ([\\'h1\\', (\\'FastHTML APP\\',), {}], [\\'p\\', (\"Let\\'s do this\",), {}]),\\n',\n",
       "    \" {'class': 'go'}]\"]},\n",
       "  'execution_count': None,\n",
       "  'metadata': {},\n",
       "  'output_type': 'execute_result'}]"
      ]
     },
     "execution_count": null,
     "metadata": {},
     "output_type": "execute_result"
    }
   ],
   "source": [
    "out_cell = first(o for o in cells if o.get('outputs'))\n",
    "out_cell.outputs"
   ]
  },
  {
   "cell_type": "code",
   "execution_count": null,
   "metadata": {},
   "outputs": [],
   "source": [
    "def _join(s): return ''.join(s).strip()"
   ]
  },
  {
   "cell_type": "code",
   "execution_count": null,
   "metadata": {},
   "outputs": [
    {
     "name": "stdout",
     "output_type": "stream",
     "text": [
      "```xml\n",
      "<div class=\"go\">\n",
      "  <h1>FastHTML APP</h1>\n",
      "  <p>Let&#x27;s do this</p>\n",
      "</div>\n",
      "\n",
      "```\n"
     ]
    }
   ],
   "source": [
    "md_out = _join(out_cell.outputs[0]['data']['text/markdown'])\n",
    "print(md_out)"
   ]
  },
  {
   "cell_type": "code",
   "execution_count": null,
   "metadata": {},
   "outputs": [],
   "source": [
    "#| export\n",
    "def render_code_output(cell, lang='python', pygments=False, wrapper=Footer):\n",
    "    if not cell.outputs: return ''\n",
    "    res = render_outputs(cell.outputs, pygments=pygments)\n",
    "    if res: return wrapper(NotStr(res))"
   ]
  },
  {
   "cell_type": "code",
   "execution_count": null,
   "metadata": {},
   "outputs": [
    {
     "data": {
      "text/html": [
       "<div class=\"highlight\" style=\"background: #f8f8f8\"><pre style=\"line-height: 125%;\"><span></span><span style=\"color: #008000; font-weight: bold\">&lt;div</span><span style=\"color: #bbbbbb\"> </span><span style=\"color: #687822\">class=</span><span style=\"color: #BA2121\">&quot;go&quot;</span><span style=\"color: #008000; font-weight: bold\">&gt;</span>\n",
       "<span style=\"color: #bbbbbb\">  </span><span style=\"color: #008000; font-weight: bold\">&lt;h1&gt;</span>FastHTML<span style=\"color: #bbbbbb\"> </span>APP<span style=\"color: #008000; font-weight: bold\">&lt;/h1&gt;</span>\n",
       "<span style=\"color: #bbbbbb\">  </span><span style=\"color: #008000; font-weight: bold\">&lt;p&gt;</span>Let<span style=\"color: #717171; font-weight: bold\">&amp;#x27;</span>s<span style=\"color: #bbbbbb\"> </span>do<span style=\"color: #bbbbbb\"> </span>this<span style=\"color: #008000; font-weight: bold\">&lt;/p&gt;</span>\n",
       "<span style=\"color: #008000; font-weight: bold\">&lt;/div&gt;</span>\n",
       "</pre></div>\n",
       "\n"
      ],
      "text/plain": [
       "<IPython.core.display.HTML object>"
      ]
     },
     "execution_count": null,
     "metadata": {},
     "output_type": "execute_result"
    }
   ],
   "source": [
    "HTML(render_outputs(out_cell.outputs, pygments=True))"
   ]
  },
  {
   "cell_type": "markdown",
   "metadata": {},
   "source": [
    "## Frontmatter"
   ]
  },
  {
   "cell_type": "code",
   "execution_count": null,
   "metadata": {},
   "outputs": [],
   "source": [
    "#| export\n",
    "_RE_FM_BASE=r'''^---\\s*\n",
    "(.*?\\S+.*?)\n",
    "---\\s*'''"
   ]
  },
  {
   "cell_type": "code",
   "execution_count": null,
   "metadata": {},
   "outputs": [],
   "source": [
    "#| export\n",
    "_re_fm_nb = re.compile(_RE_FM_BASE+'$', flags=re.DOTALL)\n",
    "_re_fm_md = re.compile(_RE_FM_BASE, flags=re.DOTALL)"
   ]
  },
  {
   "cell_type": "code",
   "execution_count": null,
   "metadata": {},
   "outputs": [],
   "source": [
    "#| export\n",
    "def _fm2dict(s:str, nb=True):\n",
    "    \"Load YAML frontmatter into a `dict`\"\n",
    "    re_fm = _re_fm_nb if nb else _re_fm_md\n",
    "    match = re_fm.search(s.strip())\n",
    "    return yaml.safe_load(match.group(1)) if match else {}"
   ]
  },
  {
   "cell_type": "code",
   "execution_count": null,
   "metadata": {},
   "outputs": [],
   "source": [
    "#| export\n",
    "def _md2dict(s:str):\n",
    "    \"Convert H1 formatted markdown cell to frontmatter dict\"\n",
    "    if '#' not in s: return {}\n",
    "    m = re.search(r'^#\\s+(\\S.*?)\\s*$', s, flags=re.MULTILINE)\n",
    "    if not m: return {}\n",
    "    res = {'title': m.group(1)}\n",
    "    m = re.search(r'^>\\s+(\\S.*?)\\s*$', s, flags=re.MULTILINE)\n",
    "    if m: res['description'] = m.group(1)\n",
    "    r = re.findall(r'^-\\s+(\\S.*:.*\\S)\\s*$', s, flags=re.MULTILINE)\n",
    "    if r:\n",
    "        try: res.update(yaml.safe_load('\\n'.join(r)))\n",
    "        except Exception as e: warn(f'Failed to create YAML dict for:\\n{r}\\n\\n{e}\\n')\n",
    "    return res"
   ]
  },
  {
   "cell_type": "code",
   "execution_count": null,
   "metadata": {},
   "outputs": [],
   "source": [
    "#| export\n",
    "def get_frontmatter(source,     # metatadata source (jupyter cell or md content)\n",
    "                    nb_file=True,    # Is jupyter nb or qmd file\n",
    "                    md_fm=False # md or raw style frontmatter\n",
    "                   ):\n",
    "    if not nb_file: return _fm2dict(source)\n",
    "    if md_fm:       return _md2dict(source.source)\n",
    "    return _fm2dict(source.source, nb_file)    \n",
    "\n",
    "get_frontmatter_raw = partial(get_frontmatter, md_fm=False)\n",
    "get_frontmatter_md =  partial(get_frontmatter, md_fm=True)"
   ]
  },
  {
   "cell_type": "code",
   "execution_count": null,
   "metadata": {},
   "outputs": [
    {
     "data": {
      "text/plain": [
       "{'title': 'FastHTML By Example',\n",
       " 'description': 'An introduction to FastHTML from the ground up, with four complete examples',\n",
       " 'order': 2}"
      ]
     },
     "execution_count": null,
     "metadata": {},
     "output_type": "execute_result"
    }
   ],
   "source": [
    "nb = read_nb(nb_dir/'by_example.ipynb')\n",
    "fm = get_frontmatter(nb.cells[0], md_fm=True)\n",
    "fm"
   ]
  },
  {
   "cell_type": "code",
   "execution_count": null,
   "metadata": {},
   "outputs": [],
   "source": [
    "#| export\n",
    "def render_frontmatter(fm):\n",
    "    desc = P(fm['description']) if 'description' in fm else ()\n",
    "    return Div(cls='frontmatter')(\n",
    "        H1(fm['title']), desc\n",
    "    )"
   ]
  },
  {
   "cell_type": "code",
   "execution_count": null,
   "metadata": {},
   "outputs": [
    {
     "data": {
      "text/html": [
       "<div class=\"frontmatter\">\n",
       "  <h1>FastHTML By Example</h1>\n",
       "  <p>An introduction to FastHTML from the ground up, with four complete examples</p>\n",
       "</div>\n"
      ],
      "text/plain": [
       "<IPython.core.display.HTML object>"
      ]
     },
     "metadata": {},
     "output_type": "display_data"
    }
   ],
   "source": [
    "show(render_frontmatter(fm))"
   ]
  },
  {
   "cell_type": "markdown",
   "metadata": {},
   "source": [
    "## Render NB"
   ]
  },
  {
   "cell_type": "code",
   "execution_count": null,
   "metadata": {},
   "outputs": [],
   "source": [
    "#| export\n",
    "def render_nb(fpath, # Path to Jupyter Notebook\n",
    "              wrapper=Main, #Wraps entire rendered NB, default is for pico\n",
    "              cls='container', # cls to be passed to wrapper, default is for pico\n",
    "              md_cell_wrapper=Div, # Wraps markdown cell\n",
    "              md_fn=render_md, # md -> rendered html\n",
    "              code_cell_wrapper=Card, # Wraps Source Code (body) + Outputs (footer)\n",
    "              cd_fn=render_code_source, # code cell -> code source rendered html\n",
    "              out_fn=render_code_output, # code cell -> code output rendered html\n",
    "              get_fm=get_frontmatter_md, # How to read frontmatter cell\n",
    "              fm_fn:None|Callable=render_frontmatter, # Frontmatter -> FT components\n",
    "              **kwargs # Passed to wrapper\n",
    "             ): \n",
    "    nb = read_nb(fpath)\n",
    "    res, content_start_idx = [], 0\n",
    "    if fm_fn: \n",
    "        content_start_idx = 1\n",
    "        fm = get_fm(nb.cells[0])\n",
    "        res.append(fm_fn(fm))\n",
    "    for cell in nb.cells[content_start_idx:]:\n",
    "        if   cell['cell_type']=='code'    : res.append(code_cell_wrapper(cd_fn(cell), out_fn(cell)))\n",
    "        elif cell['cell_type']=='markdown': res.append(md_cell_wrapper(md_fn(cell.source)))\n",
    "    return wrapper(cls=cls, **kwargs)(*res)"
   ]
  },
  {
   "cell_type": "code",
   "execution_count": null,
   "metadata": {},
   "outputs": [],
   "source": [
    "if IN_NOTEBOOK: from fasthtml.jupyter import *"
   ]
  },
  {
   "cell_type": "code",
   "execution_count": null,
   "metadata": {},
   "outputs": [
    {
     "data": {
      "text/html": [
       "\n",
       "<script>\n",
       "document.body.addEventListener('htmx:configRequest', (event) => {\n",
       "    if(event.detail.path.includes('://')) return;\n",
       "    htmx.config.selfRequestsOnly=false;\n",
       "    event.detail.path = `${location.protocol}//${location.hostname}:8000${event.detail.path}`;\n",
       "});\n",
       "</script>"
      ],
      "text/plain": [
       "<IPython.core.display.HTML object>"
      ]
     },
     "metadata": {},
     "output_type": "display_data"
    }
   ],
   "source": [
    "if IN_NOTEBOOK:\n",
    "    app, rt = fast_app(hdrs=hdrs)\n",
    "    server = JupyUvi(app)\n",
    "\n",
    "    @app.get\n",
    "    def index(): return rendered_nb"
   ]
  },
  {
   "cell_type": "code",
   "execution_count": null,
   "metadata": {},
   "outputs": [],
   "source": [
    "rendered_nb = render_nb(nb_dir/'by_example.ipynb')"
   ]
  },
  {
   "cell_type": "code",
   "execution_count": null,
   "metadata": {},
   "outputs": [
    {
     "name": "stdout",
     "output_type": "stream",
     "text": [
      "<main class=\"container\">  <div class=\"frontmatter\">\n",
      "    <h1>FastHTML By Example</h1>\n",
      "    <p>An intro\n"
     ]
    }
   ],
   "source": [
    "print(to_xml(rendered_nb)[:100])"
   ]
  },
  {
   "cell_type": "code",
   "execution_count": null,
   "metadata": {},
   "outputs": [
    {
     "data": {
      "text/html": [
       "<a href=\"http://localhost:8000\" target=\"_blank\">Open in new tab</a>"
      ],
      "text/plain": [
       "<IPython.core.display.HTML object>"
      ]
     },
     "metadata": {},
     "output_type": "display_data"
    }
   ],
   "source": [
    "# HTMX(link=True, iframe=False)"
   ]
  },
  {
   "cell_type": "code",
   "execution_count": null,
   "metadata": {},
   "outputs": [],
   "source": [
    "if IN_NOTEBOOK: server.stop()"
   ]
  },
  {
   "cell_type": "markdown",
   "metadata": {},
   "source": [
    "## export -"
   ]
  },
  {
   "cell_type": "code",
   "execution_count": null,
   "metadata": {},
   "outputs": [],
   "source": [
    "#| hide\n",
    "import nbdev; nbdev.nbdev_export()"
   ]
  },
  {
   "cell_type": "code",
   "execution_count": null,
   "metadata": {},
   "outputs": [],
   "source": []
  }
 ],
 "metadata": {
  "kernelspec": {
   "display_name": "python3",
   "language": "python",
   "name": "python3"
  }
 },
 "nbformat": 4,
 "nbformat_minor": 4
}
