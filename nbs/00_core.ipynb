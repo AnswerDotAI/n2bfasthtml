{
 "cells": [
  {
   "cell_type": "markdown",
   "metadata": {},
   "source": [
    "# nb\n",
    "\n",
    "> Create FastHTML from a NB"
   ]
  },
  {
   "cell_type": "code",
   "execution_count": null,
   "metadata": {},
   "outputs": [],
   "source": [
    "#| default_exp core"
   ]
  },
  {
   "cell_type": "code",
   "execution_count": null,
   "metadata": {},
   "outputs": [],
   "source": [
    "#| hide\n",
    "from nbdev.showdoc import *"
   ]
  },
  {
   "cell_type": "code",
   "execution_count": null,
   "metadata": {},
   "outputs": [
    {
     "data": {
      "text/html": [
       "<script type=\"module\" src=\"https://cdn.jsdelivr.net/npm/zero-md@3?register\"></script>\n"
      ],
      "text/plain": [
       "<IPython.core.display.HTML object>"
      ]
     },
     "metadata": {},
     "output_type": "display_data"
    }
   ],
   "source": [
    "%%html\n",
    "<script type=\"module\" src=\"https://cdn.jsdelivr.net/npm/zero-md@3?register\"></script>"
   ]
  },
  {
   "cell_type": "code",
   "execution_count": null,
   "metadata": {},
   "outputs": [],
   "source": [
    "#| export\n",
    "from fasthtml.common import *\n",
    "from pathlib import Path\n",
    "import json"
   ]
  },
  {
   "cell_type": "code",
   "execution_count": null,
   "metadata": {},
   "outputs": [],
   "source": [
    "example_nb_dir = Path('../example_nbs/')\n",
    "with open(example_nb_dir/'explaining_xt_components.ipynb', 'r') as f: xt_nb = json.load(f)"
   ]
  },
  {
   "cell_type": "code",
   "execution_count": null,
   "metadata": {},
   "outputs": [],
   "source": [
    "#| export\n",
    "def strip_list(l, val='\\n'):\n",
    "    start, end = 0, len(l)\n",
    "    while start < end and l[start] == val: start += 1\n",
    "    while end > start and l[end - 1] == val: end -= 1\n",
    "    return l[start:end]"
   ]
  },
  {
   "cell_type": "code",
   "execution_count": null,
   "metadata": {},
   "outputs": [],
   "source": [
    "#| export\n",
    "def render_md(c):\n",
    "    # TODO default to FastHTML's implementation\n",
    "    return c"
   ]
  },
  {
   "cell_type": "code",
   "execution_count": null,
   "metadata": {},
   "outputs": [],
   "source": [
    "#| export\n",
    "def render_md_cell(cell):\n",
    "    assert cell['cell_type'] == 'markdown'\n",
    "    return Div(cls='marked')(render_md(''.join(strip_list(cell['source']))))"
   ]
  },
  {
   "cell_type": "code",
   "execution_count": null,
   "metadata": {},
   "outputs": [],
   "source": [
    "# show(Div(*map(render_md_cell,[o for o in xt_nb['cells'][:3] if o['cell_type']=='markdown'])))"
   ]
  },
  {
   "cell_type": "code",
   "execution_count": null,
   "metadata": {},
   "outputs": [],
   "source": [
    "#| export\n",
    "def get_nb_lang(nb): return nb['metadata']['kernelspec']['language']\n",
    "# get_nb_lang(xt_nb)"
   ]
  },
  {
   "cell_type": "code",
   "execution_count": null,
   "metadata": {},
   "outputs": [],
   "source": [
    "#| export\n",
    "def render_code_source(cell,lang='python'):\n",
    "    if cell['source']==[]: return ''\n",
    "    code = f'''```{lang}\\n{''.join(strip_list(cell['source']))}'''\n",
    "    return Div(cls='marked')(render_md(code))"
   ]
  },
  {
   "cell_type": "code",
   "execution_count": null,
   "metadata": {},
   "outputs": [],
   "source": [
    "# show(Div(*map(render_code_source,[o for o in xt_nb['cells'][:10] if o['cell_type']=='code'])))"
   ]
  },
  {
   "cell_type": "code",
   "execution_count": null,
   "metadata": {},
   "outputs": [],
   "source": [
    "#| export\n",
    "def render_code_output(cell,lang='python'):\n",
    "    res = []\n",
    "    if len(cell['outputs'])==0: ''\n",
    "    for output in cell['outputs']:\n",
    "        if output['output_type'] == 'execute_result':\n",
    "            data = output['data']\n",
    "            if 'text/markdown' in data.keys(): \n",
    "                res.append(NotStr(''.join(strip_list(data['text/markdown'][1:-1]))))\n",
    "            elif 'text/plain' in data.keys(): \n",
    "                res.append(''.join(strip_list(data['text/plain'])))\n",
    "        if output['output_type'] == 'stream':\n",
    "            res.append(''.join(strip_list(output['text'])))\n",
    "    return Footer(cls='marked')(*res)"
   ]
  },
  {
   "cell_type": "code",
   "execution_count": null,
   "metadata": {},
   "outputs": [],
   "source": [
    "nbs_dir = Path('../example_nbs/')\n",
    "with open(nbs_dir/'00_core.ipynb', 'r') as f: nb = json.load(f)\n",
    "\n",
    "# render_code_output(nb['cells'][9])"
   ]
  },
  {
   "cell_type": "code",
   "execution_count": null,
   "metadata": {},
   "outputs": [],
   "source": [
    "# show(Div(*map(render_code_output,[o for o in xt_nb['cells'][:20] if o['cell_type']=='code'])))"
   ]
  },
  {
   "cell_type": "code",
   "execution_count": null,
   "metadata": {},
   "outputs": [],
   "source": [
    "#| export\n",
    "def render_nb(fpath, # Path to Jupyter Notebook\n",
    "              wrapper=Main, #Wraps entire rendered NB, default is for pico\n",
    "              cls='container', # cls to be passed to wrapper, default is for pico\n",
    "              md_cell_wrapper=Div, # Wraps markdown cell\n",
    "              md_fn=render_md_cell, # md cell -> rendered html\n",
    "              code_cell_wrapper=Card, # Wraps Source Code (body) + Outputs (footer)\n",
    "              cd_fn=render_code_source, # code cell -> code source rendered html\n",
    "              out_fn=render_code_output, # code cell -> code output rendered html\n",
    "              **kwargs # Passed to wrapper\n",
    "             ): \n",
    "    with open(fpath, 'r') as f: xt_nb = json.load(f)\n",
    "    fname = Path(fpath).name\n",
    "    res = []\n",
    "    for cell in xt_nb['cells']:\n",
    "        if cell['cell_type']=='code':\n",
    "            s,o = cd_fn(cell), out_fn(cell)\n",
    "            res.append(code_cell_wrapper(s,o))\n",
    "        elif cell['cell_type']=='markdown': \n",
    "            res.append(md_cell_wrapper(md_fn(cell)))\n",
    "    return wrapper(cls=cls)(*res)"
   ]
  },
  {
   "cell_type": "markdown",
   "metadata": {},
   "source": [
    "## Todo\n",
    "\n",
    "+ Quarto stuff rendered?\n",
    "+ Implement default for Markdown based on FastHTML's default"
   ]
  },
  {
   "cell_type": "code",
   "execution_count": null,
   "metadata": {},
   "outputs": [],
   "source": [
    "#| hide\n",
    "import nbdev; nbdev.nbdev_export()"
   ]
  },
  {
   "cell_type": "code",
   "execution_count": null,
   "metadata": {},
   "outputs": [],
   "source": []
  }
 ],
 "metadata": {
  "kernelspec": {
   "display_name": "python3",
   "language": "python",
   "name": "python3"
  }
 },
 "nbformat": 4,
 "nbformat_minor": 4
}
