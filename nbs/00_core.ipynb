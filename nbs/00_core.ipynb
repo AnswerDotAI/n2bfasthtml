{
 "cells": [
  {
   "cell_type": "markdown",
   "metadata": {},
   "source": [
    "# nb\n",
    "\n",
    "> Create FastHTML from a NB"
   ]
  },
  {
   "cell_type": "code",
   "execution_count": null,
   "metadata": {},
   "outputs": [],
   "source": [
    "#| default_exp core"
   ]
  },
  {
   "cell_type": "code",
   "execution_count": null,
   "metadata": {},
   "outputs": [],
   "source": [
    "#| hide\n",
    "from nbdev.showdoc import *"
   ]
  },
  {
   "cell_type": "code",
   "execution_count": null,
   "metadata": {},
   "outputs": [],
   "source": [
    "#| export\n",
    "from fasthtml.common import *\n",
    "from pathlib import Path\n",
    "import json, yaml\n",
    "from execnb.nbio import *\n",
    "from typing import Callable\n",
    "from functools import partial"
   ]
  },
  {
   "cell_type": "code",
   "execution_count": null,
   "metadata": {},
   "outputs": [],
   "source": [
    "#| export\n",
    "hdrs = (MarkdownJS(), HighlightJS(langs=['python', 'javascript', 'html', 'css']), )"
   ]
  },
  {
   "cell_type": "code",
   "execution_count": null,
   "metadata": {},
   "outputs": [],
   "source": [
    "if IN_NOTEBOOK:\n",
    "    from fasthtml.jupyter import *\n",
    "    app, rt = jupy_app(hdrs=hdrs)\n",
    "    server = JupyUvi(app)"
   ]
  },
  {
   "cell_type": "code",
   "execution_count": null,
   "metadata": {},
   "outputs": [],
   "source": [
    "example_nb_dir = Path('../example_nbs/')\n",
    "with open(example_nb_dir/'explaining_xt_components.ipynb', 'r') as f: xt_nb = json.load(f)"
   ]
  },
  {
   "cell_type": "code",
   "execution_count": null,
   "metadata": {},
   "outputs": [],
   "source": [
    "#| export\n",
    "def strip_list(l, val='\\n'):\n",
    "    start, end = 0, len(l)\n",
    "    while start < end and l[start] == val: start += 1\n",
    "    while end > start and l[end - 1] == val: end -= 1\n",
    "    return l[start:end]"
   ]
  },
  {
   "cell_type": "markdown",
   "metadata": {},
   "source": [
    "# Render Cells"
   ]
  },
  {
   "cell_type": "code",
   "execution_count": null,
   "metadata": {},
   "outputs": [],
   "source": [
    "#| export\n",
    "def render_md(c,container=Div): return container(c,cls=\"marked\")"
   ]
  },
  {
   "cell_type": "code",
   "execution_count": null,
   "metadata": {},
   "outputs": [],
   "source": [
    "#| export\n",
    "def render_md_cell(cell,render_md=render_md):\n",
    "    assert cell['cell_type'] == 'markdown'\n",
    "    return render_md(''.join(strip_list(cell['source'])))"
   ]
  },
  {
   "cell_type": "code",
   "execution_count": null,
   "metadata": {},
   "outputs": [],
   "source": [
    "#| export\n",
    "def get_nb_lang(nb): return nb['metadata']['kernelspec']['language']"
   ]
  },
  {
   "cell_type": "code",
   "execution_count": null,
   "metadata": {},
   "outputs": [],
   "source": [
    "#| export\n",
    "def render_code_source(cell,lang='python',render_md=render_md):\n",
    "    if cell['source']==[]: return ''\n",
    "    code = f'''```{lang}\\n{''.join(strip_list(cell['source']))}'''\n",
    "    return render_md(code)"
   ]
  },
  {
   "cell_type": "code",
   "execution_count": null,
   "metadata": {},
   "outputs": [],
   "source": [
    "#| export\n",
    "def render_code_output(cell,lang='python', render_md=render_md):\n",
    "    res = []\n",
    "    if len(cell['outputs'])==0: ''\n",
    "    for output in cell['outputs']:\n",
    "        if output['output_type'] == 'execute_result':\n",
    "            data = output['data']\n",
    "            if 'text/markdown' in data.keys(): \n",
    "                res.append(NotStr(''.join(strip_list(data['text/markdown'][1:-1]))))\n",
    "            elif 'text/plain' in data.keys(): \n",
    "                res.append(''.join(strip_list(data['text/plain'])))\n",
    "        if output['output_type'] == 'stream':\n",
    "            res.append(''.join(strip_list(output['text'])))\n",
    "    if res: return render_md(*res, container=Footer)"
   ]
  },
  {
   "cell_type": "code",
   "execution_count": null,
   "metadata": {},
   "outputs": [],
   "source": [
    "nbs_dir = Path('../example_nbs/')\n",
    "with open(nbs_dir/'00_core.ipynb', 'r') as f: nb = json.load(f)"
   ]
  },
  {
   "cell_type": "markdown",
   "metadata": {},
   "source": [
    "# Frontmatter"
   ]
  },
  {
   "cell_type": "code",
   "execution_count": null,
   "metadata": {},
   "outputs": [],
   "source": [
    "#| export\n",
    "_RE_FM_BASE=r'''^---\\s*\n",
    "(.*?\\S+.*?)\n",
    "---\\s*'''"
   ]
  },
  {
   "cell_type": "code",
   "execution_count": null,
   "metadata": {},
   "outputs": [],
   "source": [
    "#| export\n",
    "_re_fm_nb = re.compile(_RE_FM_BASE+'$', flags=re.DOTALL)\n",
    "_re_fm_md = re.compile(_RE_FM_BASE, flags=re.DOTALL)"
   ]
  },
  {
   "cell_type": "code",
   "execution_count": null,
   "metadata": {},
   "outputs": [],
   "source": [
    "#| export\n",
    "def _fm2dict(s:str, nb=True):\n",
    "    \"Load YAML frontmatter into a `dict`\"\n",
    "    re_fm = _re_fm_nb if nb else _re_fm_md\n",
    "    match = re_fm.search(s.strip())\n",
    "    return yaml.safe_load(match.group(1)) if match else {}"
   ]
  },
  {
   "cell_type": "code",
   "execution_count": null,
   "metadata": {},
   "outputs": [],
   "source": [
    "#| export\n",
    "def _md2dict(s:str):\n",
    "    \"Convert H1 formatted markdown cell to frontmatter dict\"\n",
    "    if '#' not in s: return {}\n",
    "    m = re.search(r'^#\\s+(\\S.*?)\\s*$', s, flags=re.MULTILINE)\n",
    "    if not m: return {}\n",
    "    res = {'title': m.group(1)}\n",
    "    m = re.search(r'^>\\s+(\\S.*?)\\s*$', s, flags=re.MULTILINE)\n",
    "    if m: res['description'] = m.group(1)\n",
    "    r = re.findall(r'^-\\s+(\\S.*:.*\\S)\\s*$', s, flags=re.MULTILINE)\n",
    "    if r:\n",
    "        try: res.update(yaml.safe_load('\\n'.join(r)))\n",
    "        except Exception as e: warn(f'Failed to create YAML dict for:\\n{r}\\n\\n{e}\\n')\n",
    "    return res"
   ]
  },
  {
   "cell_type": "code",
   "execution_count": null,
   "metadata": {},
   "outputs": [],
   "source": [
    "#| export\n",
    "def get_frontmatter(source,     # metatadata source (jupyter cell or md content)\n",
    "                    nb_file=True,    # Is jupyter nb or qmd file\n",
    "                    md_fm=False # md or raw style frontmatter\n",
    "                   ):\n",
    "    if not nb_file: return _fm2dict(source)\n",
    "    if md_fm:       return _md2dict(source.source)\n",
    "    return _fm2dict(source.source, nb_file)    \n",
    "\n",
    "get_frontmatter_raw = partial(get_frontmatter, md_fm=False)\n",
    "get_frontmatter_md =  partial(get_frontmatter, md_fm=True)"
   ]
  },
  {
   "cell_type": "code",
   "execution_count": null,
   "metadata": {},
   "outputs": [
    {
     "data": {
      "text/plain": [
       "{'title': 'FastHTML By Example',\n",
       " 'description': 'An introduction to FastHTML from the ground up, with four complete examples',\n",
       " 'order': 2}"
      ]
     },
     "execution_count": null,
     "metadata": {},
     "output_type": "execute_result"
    }
   ],
   "source": [
    "nb = read_nb('../example_nbs/by_example.ipynb')\n",
    "get_frontmatter(nb.cells[0], md_fm=True)"
   ]
  },
  {
   "cell_type": "code",
   "execution_count": null,
   "metadata": {},
   "outputs": [
    {
     "data": {
      "text/plain": [
       "{'title': 'FastHTML By Example',\n",
       " 'description': 'An introduction to FastHTML from the ground up, with four complete examples',\n",
       " 'order': 2}"
      ]
     },
     "execution_count": null,
     "metadata": {},
     "output_type": "execute_result"
    }
   ],
   "source": [
    "get_frontmatter_md(read_nb('../example_nbs/by_example.ipynb').cells[0])"
   ]
  },
  {
   "cell_type": "code",
   "execution_count": null,
   "metadata": {},
   "outputs": [],
   "source": [
    "#| export\n",
    "def render_frontmatter(fm):\n",
    "    return Div(cls='frontmatter')(H1(fm['title']),P(fm['description']))"
   ]
  },
  {
   "cell_type": "markdown",
   "metadata": {},
   "source": [
    "# Render NB"
   ]
  },
  {
   "cell_type": "code",
   "execution_count": null,
   "metadata": {},
   "outputs": [],
   "source": [
    "#| export\n",
    "def render_nb(fpath, # Path to Jupyter Notebook\n",
    "              wrapper=Main, #Wraps entire rendered NB, default is for pico\n",
    "              cls='container', # cls to be passed to wrapper, default is for pico\n",
    "              md_cell_wrapper=Div, # Wraps markdown cell\n",
    "              md_fn=render_md_cell, # md cell -> rendered html\n",
    "              code_cell_wrapper=Card, # Wraps Source Code (body) + Outputs (footer)\n",
    "              cd_fn=render_code_source, # code cell -> code source rendered html\n",
    "              out_fn=render_code_output, # code cell -> code output rendered html\n",
    "              get_fm=get_frontmatter_md, # How to read frontmatter cell\n",
    "              fm_fn:None|Callable=render_frontmatter, # Frontmatter -> FT components\n",
    "              **kwargs # Passed to wrapper\n",
    "             ): \n",
    "    nb = read_nb(fpath)\n",
    "    fname = Path(fpath).name\n",
    "    res, content_start_idx = [], 0\n",
    "    if fm_fn: \n",
    "        content_start_idx = 1\n",
    "        fm = get_fm(nb.cells[0])\n",
    "        res.append(fm_fn(fm))\n",
    "    for cell in nb.cells[content_start_idx:]:\n",
    "        if cell['cell_type']=='code':\n",
    "            s,o = cd_fn(cell), out_fn(cell)\n",
    "            res.append(code_cell_wrapper(s,o))\n",
    "        elif cell['cell_type']=='markdown': \n",
    "            res.append(md_cell_wrapper(md_fn(cell)))\n",
    "    return wrapper(cls=cls)(*res)"
   ]
  },
  {
   "cell_type": "code",
   "execution_count": null,
   "metadata": {},
   "outputs": [],
   "source": [
    "rendered_nb = render_nb('../example_nbs/by_example.ipynb',md_fm=True)"
   ]
  },
  {
   "cell_type": "code",
   "execution_count": null,
   "metadata": {},
   "outputs": [
    {
     "data": {
      "text/plain": [
       "{'title': 'FastHTML By Example',\n",
       " 'description': 'An introduction to FastHTML from the ground up, with four complete examples',\n",
       " 'order': 2}"
      ]
     },
     "execution_count": null,
     "metadata": {},
     "output_type": "execute_result"
    }
   ],
   "source": [
    "xt_nb = read_nb('../example_nbs/by_example.ipynb')\n",
    "get_frontmatter(xt_nb.cells[0], md_fm=True)"
   ]
  },
  {
   "cell_type": "code",
   "execution_count": null,
   "metadata": {},
   "outputs": [],
   "source": [
    "# render_nb('../example_nbs/by_example.ipynb',md_fm=True)"
   ]
  },
  {
   "cell_type": "code",
   "execution_count": null,
   "metadata": {},
   "outputs": [],
   "source": [
    "if IN_NOTEBOOK:\n",
    "    @app.get\n",
    "    def index():\n",
    "        return render_nb('../example_nbs/by_example.ipynb',md_fm=True)"
   ]
  },
  {
   "cell_type": "code",
   "execution_count": null,
   "metadata": {},
   "outputs": [],
   "source": [
    "# HTMX()"
   ]
  },
  {
   "cell_type": "code",
   "execution_count": null,
   "metadata": {},
   "outputs": [],
   "source": [
    "#| hide\n",
    "import nbdev; nbdev.nbdev_export()"
   ]
  },
  {
   "cell_type": "code",
   "execution_count": null,
   "metadata": {},
   "outputs": [],
   "source": []
  }
 ],
 "metadata": {
  "kernelspec": {
   "display_name": "python3",
   "language": "python",
   "name": "python3"
  }
 },
 "nbformat": 4,
 "nbformat_minor": 4
}
