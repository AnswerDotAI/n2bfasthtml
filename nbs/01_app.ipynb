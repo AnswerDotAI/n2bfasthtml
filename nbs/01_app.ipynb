{
 "cells": [
  {
   "cell_type": "markdown",
   "id": "5632a466",
   "metadata": {},
   "source": [
    "# app\n",
    "\n",
    "> Create an app from a colleciton"
   ]
  },
  {
   "cell_type": "code",
   "execution_count": null,
   "id": "2ed14f10",
   "metadata": {},
   "outputs": [],
   "source": [
    "#| default_exp app"
   ]
  },
  {
   "cell_type": "code",
   "execution_count": null,
   "id": "607ba651",
   "metadata": {},
   "outputs": [],
   "source": [
    "from nb2fasthtml.core import *"
   ]
  },
  {
   "cell_type": "code",
   "execution_count": null,
   "id": "a1f408b8",
   "metadata": {},
   "outputs": [],
   "source": []
  }
 ],
 "metadata": {
  "kernelspec": {
   "display_name": "python3",
   "language": "python",
   "name": "python3"
  }
 },
 "nbformat": 4,
 "nbformat_minor": 5
}
