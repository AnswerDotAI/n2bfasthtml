{
 "cells": [
  {
   "cell_type": "markdown",
   "id": "5632a466",
   "metadata": {},
   "source": [
    "# app\n",
    "\n",
    "> Create an app from a colleciton"
   ]
  },
  {
   "cell_type": "code",
   "execution_count": 1,
   "id": "2ed14f10",
   "metadata": {},
   "outputs": [],
   "source": [
    "#| default_exp app"
   ]
  },
  {
   "cell_type": "code",
   "execution_count": 1,
   "id": "607ba651",
   "metadata": {},
   "outputs": [],
   "source": [
    "from nb2fasthtml.core import *"
   ]
  },
  {
   "cell_type": "code",
   "execution_count": null,
   "id": "a1f408b8",
   "metadata": {},
   "outputs": [],
   "source": []
  }
 ],
 "metadata": {
  "kernelspec": {
   "display_name": "Python 3 (ipykernel)",
   "language": "python",
   "name": "python3"
  },
  "language_info": {
   "codemirror_mode": {
    "name": "ipython",
    "version": 3
   },
   "file_extension": ".py",
   "mimetype": "text/x-python",
   "name": "python",
   "nbconvert_exporter": "python",
   "pygments_lexer": "ipython3",
   "version": "3.12.4"
  },
  "toc": {
   "base_numbering": 1,
   "nav_menu": {},
   "number_sections": true,
   "sideBar": true,
   "skip_h1_title": false,
   "title_cell": "Table of Contents",
   "title_sidebar": "Contents",
   "toc_cell": false,
   "toc_position": {},
   "toc_section_display": true,
   "toc_window_display": false
  }
 },
 "nbformat": 4,
 "nbformat_minor": 5
}
