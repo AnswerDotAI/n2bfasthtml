{
 "cells": [
  {
   "cell_type": "markdown",
   "metadata": {},
   "source": [
    "# OAuth"
   ]
  },
  {
   "cell_type": "markdown",
   "metadata": {},
   "source": [
    "OAuth is an open standard for 'access delegation', commonly used as a way for Internet users to grant websites or applications access to their information on other websites but without giving them the passwords. It is the mechanism that enables \"Log in with Google\" on many sites, saving you from having to remember and manage yet another password. Like many auth-related topics, there's a lot of depth and complexity to the OAuth standard, but once you understand the basic usage it can be a very convenient alternative to managing your own user accounts."
   ]
  },
  {
   "cell_type": "markdown",
   "metadata": {},
   "source": [
    "On this page you'll see how to use OAuth with FastHTML to implement some common pieces of functionality."
   ]
  },
  {
   "cell_type": "markdown",
   "metadata": {},
   "source": [
    "In FastHTML you set up a client like `GoogleAppClient`. The client is responsible for storing the client ID and client secret, and for handling the OAuth flow. Let's run through three examples, illustrating some important concepts across three different OAuth providers."
   ]
  },
  {
   "cell_type": "markdown",
   "metadata": {},
   "source": [
    "## A Minimal Login Flow (GitHub)\n",
    "\n",
    "Let's begin by building a minimal 'Sign in with GitHub' flow. This will demonstrate the basic steps of OAuth.\n",
    "\n",
    "OAuth requires a \"provider\" (in this case, GitHub) to authenticate the user. So the first step when setting up our app is to register with GitHub to set things up.\n",
    "\n",
    "Go to https://github.com/settings/developers and click \"New OAuth App\". Fill in the form with the following values, then click 'Register application'.\n",
    "\n",
    "- Application name: Your app name\n",
    "- Homepage URL: http://localhost:8000 (or whatever URL you're using - you can change this later)\n",
    "- Authorization callback URL: http://localhost:8000/auth_redirect (you can modify this later too)"
   ]
  },
  {
   "attachments": {},
   "cell_type": "markdown",
   "metadata": {},
   "source": [
    "![Setting up an OAuth app in GitHub](<attachment:Screenshot 2024-08-15 101702.png>)"
   ]
  },
  {
   "cell_type": "markdown",
   "metadata": {},
   "source": [
    "You'll then see a screen where you can view the client ID and generate a client secret. Copy these values and store them in a safe place. \n",
    "\n",
    "These values are used to create a `GitHubAppClient` object in FastHTML. This object is responsible for handling the OAuth flow. Here's how you'd set this up:\n",
    "    \n",
    "```python\n",
    "client = GitHubAppClient(\n",
    "    client_id=\"your_client_id\",\n",
    "    client_secret=\"your_client_secret\",\n",
    "    redirect_uri=\"http://localhost:8000/auth_redirect\",\n",
    ")\n",
    "```"
   ]
  },
  {
   "cell_type": "markdown",
   "metadata": {},
   "source": [
    "(It is recommended to store the client ID and secret in environment variables, rather than hardcoding them in your code.)"
   ]
  },
  {
   "cell_type": "markdown",
   "metadata": {},
   "source": [
    "To start the OAuth flow, you need to redirect the user to the provider's authorization URL. This URL is obtained by calling `client.login_link()`. "
   ]
  },
  {
   "cell_type": "markdown",
   "metadata": {},
   "source": [
    "Once you send a user to that link, they'll be asked to grant your app permission to access their GitHub account. If they agree, GitHub will redirect them back to your site with a code that you can use to get an access token. To receive this code, you need to set up a route in FastHTML that listens for requests to your redirect uri (`/auth_redirect` in this case). For example:"
   ]
  },
  {
   "cell_type": "markdown",
   "metadata": {},
   "source": [
    "```python\n",
    "@app.get('/auth_redirect')\n",
    "def auth_redirect(code:str):\n",
    "    return P(f\"code: {code}\")\n",
    "```\n",
    "\n",
    "This code is temporary, and is used to send a request to the provider from the server (up until now only the client has communicated with the provider). You can think of the exchange so far as:\n",
    "\n",
    "- Client to us: \"I want to log in\"\n",
    "- Us to client: \"Here's a link to log in\"\n",
    "- Client to provider: \"I want to log in via this link\"\n",
    "- Provider to client: \"OK, redirecting you to this URL (with a code)\"\n",
    "- Client to us: /auth_redirect?code=... (\"Here's the code you need to get the token\")\n",
    "\n",
    "Next we need:\n",
    "\n",
    "- Us to provider: \"A user I told to log in just gave me this code, can I have a token please?\"\n",
    "- Provider to us: \"Here's the token\"\n",
    "- Us to provider: \"Can I have the user's details please? Here's the token\"\n",
    "- Provider to us: \"Here's the user's details\"\n",
    "\n",
    "To go from code to user details, you can use `info = client.retr_info(code)`. Or, if all you need is a unique identifier for the user, you can just use `retr_id` instead:\n",
    "\n",
    "```python\n",
    "@app.get('/auth_redirect')\n",
    "def auth_redirect(code:str):\n",
    "    user_id = client.retr_id(code)\n",
    "    return P(f\"User id: {user_id}\")\n",
    "```\n",
    "\n",
    "There's not much use in just printing the user info - going forward we want to be able to persistently keep track of who this user is. One conveneint way to do this is to store the user ID in the `session` object. Since this is cryptographically signed, it's safe to store sensitive information here - the user can't read it, but we can fetch it back out for any future requests they make. On the server side, you could also store this information in a database if you need to keep track of user info. \n",
    "\n",
    "Here's a minimal app that puts all these pieces together:"
   ]
  },
  {
   "cell_type": "markdown",
   "metadata": {},
   "source": [
    "```python\n",
    "from fasthtml.common import *\n",
    "from fasthtml.oauth import GitHubAppClient\n",
    "\n",
    "db = database('data/counts.db')\n",
    "counts = db.t.counts\n",
    "if counts not in db.t: counts.create(dict(name=str, count=int), pk='name')\n",
    "Count = counts.dataclass()\n",
    "\n",
    "# Auth client setup for GitHub\n",
    "client = GitHubAppClient(os.getenv(\"AUTH_CLIENT_ID\"), \n",
    "                         os.getenv(\"AUTH_CLIENT_SECRET\"),\n",
    "                         redirect_uri=\"http://localhost:5001/auth_redirect\")\n",
    "login_link = client.login_link()\n",
    "\n",
    "def before(req, session):\n",
    "    auth = req.scope['auth'] = session.get('user_id', None)\n",
    "    if not auth: return RedirectResponse('/login', status_code=303)\n",
    "    counts.xtra(name=auth)\n",
    "bware = Beforeware(before, skip=['/login', '/auth_redirect'])\n",
    "\n",
    "app = FastHTML(before=bware)\n",
    "\n",
    "@app.get('/')\n",
    "def home(auth):\n",
    "    return Div(\n",
    "        P(\"Count demo\"),\n",
    "        P(f\"Count: \", Span(counts[auth].count, id='count')),\n",
    "        Button('Increment', hx_get='/increment', hx_target='#count'),\n",
    "        P(A('Logout', href='/logout'))\n",
    "    )\n",
    "\n",
    "@app.get('/increment')\n",
    "def increment(auth):\n",
    "    c = counts[auth]\n",
    "    c.count += 1\n",
    "    return counts.upsert(c).count\n",
    "\n",
    "@app.get('/login')\n",
    "def login(): return P(A('Login with GitHub', href=client.login_link()))\n",
    "\n",
    "@app.get('/logout')\n",
    "def logout(session):\n",
    "    session.pop('user_id', None)\n",
    "    return RedirectResponse('/login', status_code=303)\n",
    "\n",
    "@app.get('/auth_redirect')\n",
    "def auth_redirect(code:str, session):\n",
    "    if not code: return \"No code provided!\"\n",
    "    user_id = client.retr_id(code)\n",
    "    session['user_id'] = user_id\n",
    "    if user_id not in counts: counts.insert(name=user_id, count=0)\n",
    "    return RedirectResponse('/', status_code=303)\n",
    "\n",
    "serve()\n",
    "```"
   ]
  },
  {
   "cell_type": "markdown",
   "metadata": {},
   "source": [
    "Some things to note:\n",
    "\n",
    "- The `before` function is used to check if the user is authenticated. If not, they are redirected to the login page.\n",
    "- To log the user out, we remove the user ID from the session.\n",
    "- Calling `counts.xtra(name=auth)` ensures that only the row corresponding to the current user is accessible when responding to a request. This is often nicer than trying to remember to filter the data in every route, and lowers the risk of accidentally leaking data.\n",
    "- In the `auth_redirect` route, we store the user ID in the session and create a new row in the `user_counts` table if it doesn't already exist. \n",
    "\n",
    "\n",
    "You can find more heavily-commented version of this code in the [oauth directory in fasthtml-example](https://github.com/AnswerDotAI/fasthtml-example/tree/main/oauth_example), along with an even more minimal example. More examples may be added in the future."
   ]
  },
  {
   "cell_type": "markdown",
   "metadata": {},
   "source": [
    "### Revoking Tokens (Google)"
   ]
  },
  {
   "cell_type": "markdown",
   "metadata": {},
   "source": [
    "When the user in the example above logs out, we remove their user ID from the session. However, the user is still logged in to GitHub. If they click 'Login with GitHub' again, they'll be redirected back to our site without having to log in again. This is because GitHub remembers that they've already granted our app permission to access their account. Most of the time this is convenient, but for testing or security purposes you may want a way to revoke this permission.\n",
    "\n",
    "As a user, you can usually revoke access to an app from the provider's website (for example, [https://github.com/settings/applications](https://github.com/settings/applications)). But as a developer, you can also revoke access programmatically - at least with some providers. This requires keeping track of the access token (stored in `client.token[\"access_token\"]` after you call `retr_info`), and sending a request to the provider's revoke URL:\n",
    "\n",
    "```python\n",
    "auth_revoke_url = \"https://accounts.google.com/o/oauth2/revoke\"\n",
    "def revoke_token(token):\n",
    "    response = requests.post(auth_revoke_url, params={\"token\": token})\n",
    "    return response.status_code == 200 # True if successful\n",
    "```"
   ]
  },
  {
   "cell_type": "markdown",
   "metadata": {},
   "source": [
    "Not all proivders support token revocation, and it is not built into FastHTML clients at the moment. "
   ]
  },
  {
   "cell_type": "markdown",
   "metadata": {},
   "source": [
    "### Using State (Hugging Face)"
   ]
  },
  {
   "cell_type": "markdown",
   "metadata": {},
   "source": [
    "Imagine a user (not logged in) comes to your AI image editing site, starts testing things out, and then realizes they need to sign in before they can click \"Run (Pro)\" on the edit they're working on. They click \"Sign in with Hugging Face\", log in, and are redirected back to your site. But now they've lost their in-progress edit and are left just looking at the homepage! This is an example of a case where you might want to keep track of some additional state. Another strong use case for being able to pass some uniqie state through the OAuth flow is to prevent something called a [CSRF attack](https://en.wikipedia.org/wiki/Cross-site_request_forgery). To add a state string to the OAuth flow, you can use `client.login_link_with_state(state)` instead of `client.login_link()`, like so:\n",
    "\n",
    "```python\n",
    "# in login page:\n",
    "link = A('Login with GitHub', href=client.login_link_with_state(state='current_prompt: add a unicorn'))\n",
    "\n",
    "# in auth_redirect:\n",
    "@app.get('/auth_redirect')\n",
    "def auth_redirect(code:str, session, state:str=None):\n",
    "    print(f\"state: {state}\") # Use as needed\n",
    "    ...\n",
    "```\n",
    "\n",
    "The state string is passed through the OAuth flow and back to your site."
   ]
  },
  {
   "cell_type": "markdown",
   "metadata": {},
   "source": [
    "### A Work in Progress"
   ]
  },
  {
   "cell_type": "markdown",
   "metadata": {},
   "source": [
    "This page (and OAuth support in FastHTML) is a work in progress. Questions, PRs, and feedback are welcome!"
   ]
  },
  {
   "cell_type": "code",
   "execution_count": null,
   "metadata": {},
   "outputs": [],
   "source": []
  }
 ],
 "metadata": {
  "kernelspec": {
   "display_name": "python3",
   "language": "python",
   "name": "python3"
  }
 },
 "nbformat": 4,
 "nbformat_minor": 2
}
