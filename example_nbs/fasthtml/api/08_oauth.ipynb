{
 "cells": [
  {
   "cell_type": "code",
   "execution_count": null,
   "id": "6f411b65",
   "metadata": {},
   "outputs": [],
   "source": [
    "#| default_exp oauth"
   ]
  },
  {
   "cell_type": "markdown",
   "id": "0865b3d0",
   "metadata": {},
   "source": [
    "# OAuth\n",
    "> Basic scaffolding for handling OAuth\n",
    "\n",
    "- eval: false\n",
    "- skip_exec: true"
   ]
  },
  {
   "cell_type": "markdown",
   "id": "507cd009",
   "metadata": {},
   "source": [
    "This is not yet thoroughly tested. See the [docs page](https://docs.fastht.ml/explains/oauth.html) for an explanation of how to use this."
   ]
  },
  {
   "cell_type": "code",
   "execution_count": null,
   "id": "793722f2",
   "metadata": {},
   "outputs": [],
   "source": [
    "#| export\n",
    "from fasthtml.common import *\n",
    "from oauthlib.oauth2 import WebApplicationClient\n",
    "from urllib.parse import urlparse, urlencode, parse_qs, quote, unquote\n",
    "from httpx import get, post\n",
    "import secrets"
   ]
  },
  {
   "cell_type": "code",
   "execution_count": null,
   "id": "526a5ac8",
   "metadata": {},
   "outputs": [],
   "source": [
    "from IPython.display import Markdown"
   ]
  },
  {
   "cell_type": "code",
   "execution_count": null,
   "id": "0a078133",
   "metadata": {},
   "outputs": [],
   "source": [
    "#| export\n",
    "class _AppClient(WebApplicationClient):\n",
    "    def __init__(self, client_id, client_secret, code=None, scope=None, **kwargs):\n",
    "        super().__init__(client_id, code=code, scope=scope, **kwargs)\n",
    "        self.client_secret = client_secret"
   ]
  },
  {
   "cell_type": "code",
   "execution_count": null,
   "id": "d82ea17d",
   "metadata": {},
   "outputs": [],
   "source": [
    "#| export\n",
    "class GoogleAppClient(_AppClient):\n",
    "    \"A `WebApplicationClient` for Google oauth2\"\n",
    "    base_url = \"https://accounts.google.com/o/oauth2/v2/auth\"\n",
    "    token_url = \"https://www.googleapis.com/oauth2/v4/token\"\n",
    "    info_url = \"https://www.googleapis.com/oauth2/v3/userinfo\"\n",
    "    id_key = 'sub'\n",
    "    \n",
    "    def __init__(self, client_id, client_secret, code=None, scope=None, **kwargs):\n",
    "        scope_pre = \"https://www.googleapis.com/auth/userinfo\"\n",
    "        if not scope: scope=[\"openid\", f\"{scope_pre}.email\", f\"{scope_pre}.profile\"]\n",
    "        super().__init__(client_id, client_secret, code=code, scope=scope, **kwargs)\n",
    "    \n",
    "    @classmethod\n",
    "    def from_file(cls, fname, code=None, scope=None, **kwargs):\n",
    "        cred = Path(fname).read_json()['web']\n",
    "        return cls(cred['client_id'], client_secret=cred['client_secret'], code=code, scope=scope, **kwargs)"
   ]
  },
  {
   "cell_type": "code",
   "execution_count": null,
   "id": "371ab1f7",
   "metadata": {},
   "outputs": [],
   "source": [
    "#| export\n",
    "class GitHubAppClient(_AppClient):\n",
    "    \"A `WebApplicationClient` for GitHub oauth2\"\n",
    "    base_url = \"https://github.com/login/oauth/authorize\"\n",
    "    token_url = \"https://github.com/login/oauth/access_token\"\n",
    "    info_url = \"https://api.github.com/user\"\n",
    "    id_key = 'id'\n",
    "\n",
    "    def __init__(self, client_id, client_secret, code=None, scope=None, **kwargs):\n",
    "        if not scope: scope=\"user\"\n",
    "        super().__init__(client_id, client_secret, code=code, scope=scope, **kwargs)"
   ]
  },
  {
   "cell_type": "code",
   "execution_count": null,
   "id": "0e79f996",
   "metadata": {},
   "outputs": [],
   "source": [
    "#| export\n",
    "class HuggingFaceClient(_AppClient):\n",
    "    \"A `WebApplicationClient` for HuggingFace oauth2\"\n",
    "\n",
    "    base_url = \"https://huggingface.co/oauth/authorize\"\n",
    "    token_url = \"https://huggingface.co/oauth/token\"\n",
    "    info_url = \"https://huggingface.co/oauth/userinfo\"\n",
    "    id_key = 'sub'\n",
    "    \n",
    "    def __init__(self, client_id, client_secret, code=None, scope=None, state=None, **kwargs):\n",
    "        if not scope: scope=[\"openid\",\"profile\"]\n",
    "        if not state: state=secrets.token_urlsafe(16)\n",
    "        super().__init__(client_id, client_secret, code=code, scope=scope, state=state, **kwargs)"
   ]
  },
  {
   "cell_type": "code",
   "execution_count": null,
   "id": "3f037bd6",
   "metadata": {},
   "outputs": [],
   "source": [
    "#| export\n",
    "class DiscordAppClient(_AppClient):\n",
    "    \"A `WebApplicationClient` for Discord oauth2\"\n",
    "    base_url = \"https://discord.com/oauth2/authorize\"\n",
    "    token_url = \"https://discord.com/api/oauth2/token\"\n",
    "    revoke_url = \"https://discord.com/api/oauth2/token/revoke\"\n",
    "    id_key = 'id'\n",
    "\n",
    "    def __init__(self, client_id, client_secret, is_user=False, perms=0, scope=None, **kwargs):\n",
    "        if not scope: scope=\"applications.commands applications.commands.permissions.update identify\"\n",
    "        self.integration_type = 1 if is_user else 0\n",
    "        self.perms = perms\n",
    "        super().__init__(client_id, client_secret, scope=scope, **kwargs)\n",
    "\n",
    "    def login_link(self):\n",
    "        d = dict(response_type='code', client_id=self.client_id,\n",
    "                 integration_type=self.integration_type, scope=self.scope) #, permissions=self.perms, prompt='consent')\n",
    "        return f'{self.base_url}?' + urlencode(d)\n",
    "\n",
    "    def parse_response(self, code):\n",
    "        headers = {'Content-Type': 'application/x-www-form-urlencoded'}\n",
    "        data = dict(grant_type='authorization_code', code=code)#, redirect_uri=self.redirect_uri)\n",
    "        r = post(self.token_url, data=data, headers=headers, auth=(self.client_id, self.client_secret))\n",
    "        r.raise_for_status()\n",
    "        self.parse_request_body_response(r.text)"
   ]
  },
  {
   "cell_type": "code",
   "execution_count": null,
   "id": "109bc501",
   "metadata": {},
   "outputs": [],
   "source": [
    "cli = GoogleAppClient.from_file('/Users/jhoward/git/nbs/oauth-test/client_secret.json')"
   ]
  },
  {
   "cell_type": "code",
   "execution_count": null,
   "id": "990d2310",
   "metadata": {},
   "outputs": [],
   "source": [
    "#| export\n",
    "@patch\n",
    "def login_link(self:WebApplicationClient, redirect_uri, scope=None, state=None):\n",
    "    \"Get a login link for this client\"\n",
    "    if not scope: scope=self.scope\n",
    "    if not state: state=getattr(self, 'state', None)\n",
    "    return self.prepare_request_uri(self.base_url, redirect_uri, scope, state=state)"
   ]
  },
  {
   "cell_type": "markdown",
   "id": "42ee9991",
   "metadata": {},
   "source": [
    "Generating a login link that sends the user to the OAuth provider is done with `client.login_link()`.\n",
    "\n",
    "It can sometimes be useful to pass state to the OAuth provider, so that when the user returns you can pick up where they left off. This can be done by passing the `state` parameter."
   ]
  },
  {
   "cell_type": "code",
   "execution_count": null,
   "id": "ed269004",
   "metadata": {},
   "outputs": [
    {
     "data": {
      "text/plain": [
       "'https://accounts.google.com/o/oauth2/v2/auth?response_type=code&client_id=457681028261-5i71skrhb7ko4l8mlug5i0230q980do7.apps.googleusercontent.com&redirect_uri=http%3A%2F%2Flocalhost%3A8000%2Fredirect&scope=openid+https%3A%2F%2Fwww.googleapis.com%2Fauth%2Fuserinfo.email+https%3A%2F%2Fwww.googleapis.com%2Fauth%2Fuserinfo.profile'"
      ]
     },
     "execution_count": null,
     "metadata": {},
     "output_type": "execute_result"
    }
   ],
   "source": [
    "redir='http://localhost:8000/redirect'\n",
    "cli.login_link(redir)"
   ]
  },
  {
   "cell_type": "code",
   "execution_count": null,
   "id": "a36369ca",
   "metadata": {},
   "outputs": [],
   "source": [
    "def login_md(cli, redirect_uri, scope=None, state=None):\n",
    "    \"Display login link in notebook (for testing)\"\n",
    "    return Markdown(f'[login]({cli.login_link(redirect_uri, scope, state=state)})')"
   ]
  },
  {
   "cell_type": "code",
   "execution_count": null,
   "id": "55a0aaed",
   "metadata": {},
   "outputs": [
    {
     "data": {
      "text/markdown": [
       "[login](https://accounts.google.com/o/oauth2/v2/auth?response_type=code&client_id=457681028261-5i71skrhb7ko4l8mlug5i0230q980do7.apps.googleusercontent.com&redirect_uri=http%3A%2F%2Flocalhost%3A8000%2Fredirect&scope=openid+https%3A%2F%2Fwww.googleapis.com%2Fauth%2Fuserinfo.email+https%3A%2F%2Fwww.googleapis.com%2Fauth%2Fuserinfo.profile&state=test_state)"
      ],
      "text/plain": [
       "<IPython.core.display.Markdown object>"
      ]
     },
     "execution_count": null,
     "metadata": {},
     "output_type": "execute_result"
    }
   ],
   "source": [
    "login_md(cli, redir, state='test_state')"
   ]
  },
  {
   "cell_type": "code",
   "execution_count": null,
   "id": "479878a6",
   "metadata": {},
   "outputs": [],
   "source": [
    "#| export\n",
    "@patch\n",
    "def parse_response(self:_AppClient, code, redirect_uri):\n",
    "    \"Get the token from the oauth2 server response\"\n",
    "    payload = dict(code=code, redirect_uri=redirect_uri, client_id=self.client_id,\n",
    "                   client_secret=self.client_secret, grant_type='authorization_code')\n",
    "    r = post(self.token_url, json=payload)\n",
    "    r.raise_for_status()\n",
    "    self.parse_request_body_response(r.text)"
   ]
  },
  {
   "cell_type": "code",
   "execution_count": null,
   "id": "54c2d437",
   "metadata": {},
   "outputs": [],
   "source": [
    "#| export\n",
    "def decode(code_url):\n",
    "    parsed_url = urlparse(code_url)\n",
    "    query_params = parse_qs(parsed_url.query)\n",
    "    return query_params.get('code', [''])[0], query_params.get('state', [''])[0], code_url.split('?')[0]"
   ]
  },
  {
   "cell_type": "code",
   "execution_count": null,
   "id": "932dd8c1",
   "metadata": {},
   "outputs": [],
   "source": [
    "code_url = 'http://localhost:8000/redirect?state=test_state&code=4%2F0AQlEd8xCOSfc7yjmmylO6BTVgWtAmji4GkfITsWecq0CXlm-8wBRgwNmkDmXQEdOqw0REQ&scope=email+profile+openid+https%3A%2F%2Fwww.googleapis.com%2Fauth%2Fuserinfo.profile+https%3A%2F%2Fwww.googleapis.com%2Fauth%2Fuserinfo.email&authuser=0&hd=answer.ai&prompt=consent'\n",
    "\n",
    "code,state,redir = decode(code_url)"
   ]
  },
  {
   "cell_type": "code",
   "execution_count": null,
   "id": "67037c89",
   "metadata": {},
   "outputs": [
    {
     "name": "stdout",
     "output_type": "stream",
     "text": [
      "test_state\n"
     ]
    }
   ],
   "source": [
    "cli.parse_response(code, redir)\n",
    "print(state)"
   ]
  },
  {
   "cell_type": "code",
   "execution_count": null,
   "id": "6967dbb0",
   "metadata": {},
   "outputs": [],
   "source": [
    "#| export\n",
    "@patch\n",
    "def get_info(self:_AppClient, token=None):\n",
    "    \"Get the info for authenticated user\"\n",
    "    if not token: token = self.token[\"access_token\"]\n",
    "    headers = {'Authorization': f'Bearer {token}'}\n",
    "    return get(self.info_url, headers=headers).json()"
   ]
  },
  {
   "cell_type": "code",
   "execution_count": null,
   "id": "2d7c8bbe",
   "metadata": {},
   "outputs": [
    {
     "data": {
      "text/plain": [
       "{'sub': '100000802623412015452',\n",
       " 'name': 'Jeremy Howard',\n",
       " 'given_name': 'Jeremy',\n",
       " 'family_name': 'Howard',\n",
       " 'picture': 'https://lh3.googleusercontent.com/a/ACg8ocID3bYiwh1wJNVjvlSUy0dGxvXbNjDt1hdhypQDinDf28DfEA=s96-c',\n",
       " 'email': 'j@answer.ai',\n",
       " 'email_verified': True,\n",
       " 'hd': 'answer.ai'}"
      ]
     },
     "execution_count": null,
     "metadata": {},
     "output_type": "execute_result"
    }
   ],
   "source": [
    "info"
   ]
  },
  {
   "cell_type": "code",
   "execution_count": null,
   "id": "03702349",
   "metadata": {},
   "outputs": [],
   "source": [
    "#| export\n",
    "@patch\n",
    "def retr_info(self:_AppClient, code, redirect_uri):\n",
    "    \"Combines `parse_response` and `get_info`\"\n",
    "    self.parse_response(code, redirect_uri)\n",
    "    return self.get_info()"
   ]
  },
  {
   "cell_type": "code",
   "execution_count": null,
   "id": "29f52061",
   "metadata": {},
   "outputs": [],
   "source": [
    "#| export\n",
    "@patch\n",
    "def retr_id(self:_AppClient, code, redirect_uri):\n",
    "    \"Call `retr_info` and then return id/subscriber value\"\n",
    "    return self.retr_info(code, redirect_uri)[self.id_key]"
   ]
  },
  {
   "cell_type": "markdown",
   "id": "d978e813",
   "metadata": {},
   "source": [
    "After logging in via the provider, the user will be redirected back to the supplied redirect URL. The request to this URL will contain a `code` parameter, which is used to get an access token and fetch the user's profile information. See [the explanation here](https://docs.fastht.ml/explains/oauth.html) for a worked example. You can either:\n",
    "\n",
    "- Use client.retr_info(code) to get all the profile information, or\n",
    "- Use client.retr_id(code) to get just the user's ID.\n",
    "\n",
    "After either of these calls, you can also access the access token (used to revoke access, for example) with `client.token[\"access_token\"]`."
   ]
  },
  {
   "cell_type": "code",
   "execution_count": null,
   "id": "dda68390",
   "metadata": {},
   "outputs": [],
   "source": [
    "#| export\n",
    "class OAuth:\n",
    "    def __init__(self, app, cli, skip=None, redir_path='/redirect', logout_path='/logout', login_path='/login'):\n",
    "        if not skip: skip = [redir_path,login_path]\n",
    "        self.app,self.cli,self.skip,self.redir_path,self.logout_path,self.login_path = app,cli,skip,redir_path,logout_path,login_path\n",
    "\n",
    "        def before(req, session):\n",
    "            auth = req.scope['auth'] = session.get('auth')\n",
    "            if not auth: return RedirectResponse(self.login_path, status_code=303)\n",
    "            info = AttrDictDefault(cli.get_info(auth))\n",
    "            if not self._chk_auth(info, session): return RedirectResponse(self.login_path, status_code=303)\n",
    "        app.before.append(Beforeware(before, skip=skip))\n",
    "\n",
    "        @app.get(redir_path)\n",
    "        def redirect(code:str, req, session, state:str=None):\n",
    "            if not code: return \"No code provided!\"\n",
    "            base_url = f\"{req.url.scheme}://{req.url.netloc}\"\n",
    "            print(base_url)\n",
    "            info = AttrDictDefault(cli.retr_info(code, base_url+redir_path))\n",
    "            if not self._chk_auth(info, session): return RedirectResponse(self.login_path, status_code=303)\n",
    "            session['auth'] = cli.token['access_token']\n",
    "            return self.login(info, state)\n",
    "\n",
    "        @app.get(logout_path)\n",
    "        def logout(session):\n",
    "            session.pop('auth', None)\n",
    "            return self.logout(session)\n",
    "\n",
    "    def redir_url(self, req): return f\"{req.url.scheme}://{req.url.netloc}{self.redir_path}\"\n",
    "    def login_link(self, req, scope=None, state=None): return self.cli.login_link(self.redir_url(req), scope=scope, state=state)\n",
    "\n",
    "    def login(self, info, state): raise NotImplementedError()\n",
    "    def logout(self, session): return RedirectResponse(self.login_path, status_code=303)\n",
    "    def chk_auth(self, info, ident, session): raise NotImplementedError()\n",
    "    def _chk_auth(self, info, session):\n",
    "        ident = info.get(self.cli.id_key)\n",
    "        return ident and self.chk_auth(info, ident, session)"
   ]
  },
  {
   "cell_type": "markdown",
   "id": "474e14b4",
   "metadata": {},
   "source": [
    "# Export -"
   ]
  },
  {
   "cell_type": "code",
   "execution_count": null,
   "id": "d211e8e2",
   "metadata": {},
   "outputs": [],
   "source": [
    "#|hide\n",
    "import nbdev; nbdev.nbdev_export()"
   ]
  },
  {
   "cell_type": "code",
   "execution_count": null,
   "id": "e0f7a90b",
   "metadata": {},
   "outputs": [],
   "source": []
  }
 ],
 "metadata": {
  "kernelspec": {
   "display_name": "python3",
   "language": "python",
   "name": "python3"
  }
 },
 "nbformat": 4,
 "nbformat_minor": 5
}
